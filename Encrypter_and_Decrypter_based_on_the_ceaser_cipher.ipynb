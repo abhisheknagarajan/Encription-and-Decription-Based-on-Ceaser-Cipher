{
 "cells": [
  {
   "cell_type": "markdown",
   "metadata": {},
   "source": [
    "### Problem:\n",
    "\n",
    "Create and encrypter in python based on the ceaser cipher. It is a substitution cipher where each character of the original text is shifted a certain number characters in the alphabet. Write a function that would require 2 arguments – the input text to be encrypted and a key. For eg: Given the input text ‘hello’ and the key 3, the resulting encryted text would be ‘khoor’. Here you can see that every character in the string hello is shifted by 3 characters. ‘h’ has shifted to ‘k’, ‘e’ has shifted to ‘h’ and so on. If a key of 5 were used, the resulting string would be ‘mjqqt’. This function should be capable of ignoring any characters which are not alphabets. Th2 character ‘z’ entered b\n",
    "y the user for a key of 3 would result in ‘c’.\n",
    "\n",
    "Usage:<br>\n",
    "**encrypt(‘hello world!’, 3)**<br>\n",
    "**‘khoor zruog!’**\n",
    "\n",
    "Similarly create decrypter which can decode the encryted text when provided the input text and key\n",
    "\n",
    "Usage:<br>\n",
    "**decrypt(‘khoor zruog!’, 3)**<br>\n",
    "**‘hello world!’**\n",
    "\n",
    "For the sake of simplicity you can assume that input solely consists of lowercase alphabets, spaces and punctuation symbols. Numbers in the input text would also be ignored similar to symbols."
   ]
  },
  {
   "cell_type": "code",
   "execution_count": 4,
   "metadata": {},
   "outputs": [
    {
     "name": "stdout",
     "output_type": "stream",
     "text": [
      "enter input string: hello world!\n",
      "enter key: 3\n",
      "The encrypted string is: khoor zruog!\n",
      "The decrypted string is: hello world!\n"
     ]
    }
   ],
   "source": [
    "def encrypt(string,key):   \n",
    "    new_string = ''\n",
    "    for s in string:\n",
    "        if s.isalpha():\n",
    "            if ord(s)>=65 and ord(s)<=90:\n",
    "                 s = chr((((ord(s)-65) + key) % 26) + 65)\n",
    "            else:\n",
    "                 s = chr((((ord(s)-97) + key) % 26) + 97)\n",
    "               \n",
    "                    \n",
    "        new_string = new_string + s    \n",
    "    return new_string \n",
    "\n",
    "def decrypt(string,key):\n",
    "    decrypt_string = ''\n",
    "    for s in string:\n",
    "        if s.isalpha():\n",
    "            if ord(s)>=65 and ord(s)<=90:\n",
    "                 s = chr((((ord(s)-65) - key) %26) + 65)\n",
    "            else:\n",
    "                 s =  chr((((ord(s)-97) - key) %26) + 97)\n",
    "               \n",
    "        decrypt_string += s    \n",
    "    return decrypt_string \n",
    "                          \n",
    "\n",
    "string = input(\"enter input string: \") \n",
    "key = int(input(\"enter key: \"))\n",
    "\n",
    "encrypted_string = encrypt(string,key)\n",
    "print(f\"The encrypted string is: {encrypted_string}\")\n",
    "                          \n",
    "decrypted_string = decrypt(encrypted_string,key)\n",
    "print(f\"The decrypted string is: {decrypted_string}\")\n"
   ]
  }
 ],
 "metadata": {
  "kernelspec": {
   "display_name": "Python 3",
   "language": "python",
   "name": "python3"
  },
  "language_info": {
   "codemirror_mode": {
    "name": "ipython",
    "version": 3
   },
   "file_extension": ".py",
   "mimetype": "text/x-python",
   "name": "python",
   "nbconvert_exporter": "python",
   "pygments_lexer": "ipython3",
   "version": "3.8.5"
  }
 },
 "nbformat": 4,
 "nbformat_minor": 2
}
